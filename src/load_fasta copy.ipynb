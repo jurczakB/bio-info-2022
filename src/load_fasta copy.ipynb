{
 "cells": [
  {
   "cell_type": "code",
   "execution_count": 1,
   "metadata": {},
   "outputs": [],
   "source": [
    "from Bio import SeqIO\n",
    "import matplotlib.pyplot as plt\n",
    "import numpy as np\n",
    "import re\n",
    "from collections import Counter\n",
    "import pandas as pd\n",
    "import io\n",
    "import itertools"
   ]
  },
  {
   "cell_type": "code",
   "execution_count": 2,
   "metadata": {},
   "outputs": [],
   "source": [
    "human_chy = '../data/Homo_sapiens.GRCh38.dna_sm.chromosome.Y.fa'\n",
    "motifs_input = '../data/human_motifs.fa'"
   ]
  },
  {
   "cell_type": "code",
   "execution_count": 85,
   "metadata": {},
   "outputs": [],
   "source": [
    "def seq_ACGT(seuil_proba, motif,file):\n",
    "    seq_ACGT = []\n",
    "    for i in range(0,len(motif), 4):\n",
    "        seq = motif[i:i+4]\n",
    "        tmp = []\n",
    "        if float(seq[0]) >= seuil_proba:\n",
    "            tmp.append('A')\n",
    "        if float(seq[1]) >= seuil_proba:\n",
    "            tmp.append('C')\n",
    "        if float(seq[2]) >= seuil_proba:\n",
    "            tmp.append('G')\n",
    "        if float(seq[3]) >= seuil_proba:\n",
    "            tmp.append('T')\n",
    "        seq_ACGT.append(tmp)\n",
    "    file.write('\\n'.join(map(''.join,list(itertools.product(*seq_ACGT)))))\n",
    "    file.write('\\n')"
   ]
  },
  {
   "cell_type": "code",
   "execution_count": 86,
   "metadata": {},
   "outputs": [],
   "source": [
    "with open(motifs_input) as fasta_file:  # Will close handle cleanly\n",
    "    identifiers = []\n",
    "    seq_ADN = []\n",
    "    lengths = []\n",
    "    for seq_record in SeqIO.parse(fasta_file, 'fasta'):  # (generator)\n",
    "        identifiers.append(seq_record.id)\n",
    "        seq_ADN.append(seq_record.seq)\n",
    "        lengths.append(len(seq_record.seq))\n",
    "file = open('motifs_ATFG.txt',\"w\")\n",
    "\n",
    "motifs = []\n",
    "for i in range(0,len(seq_ADN)):\n",
    "    seq = re.findall('\\d.\\d{6}',str(seq_ADN[i]))\n",
    "    seq_ACGT(0.25,seq, file)\n",
    "file.close()"
   ]
  },
  {
   "cell_type": "code",
   "execution_count": 18,
   "metadata": {},
   "outputs": [
    {
     "data": {
      "text/plain": [
       "['0.008511', '0.004255', '0.987234', '0.000000']"
      ]
     },
     "execution_count": 18,
     "metadata": {},
     "output_type": "execute_result"
    }
   ],
   "source": [
    "file = open('motifs_ATFG.txt',\"w\")\n",
    "file.close()"
   ]
  },
  {
   "cell_type": "code",
   "execution_count": 115,
   "metadata": {},
   "outputs": [
    {
     "data": {
      "text/html": [
       "<div>\n",
       "<style scoped>\n",
       "    .dataframe tbody tr th:only-of-type {\n",
       "        vertical-align: middle;\n",
       "    }\n",
       "\n",
       "    .dataframe tbody tr th {\n",
       "        vertical-align: top;\n",
       "    }\n",
       "\n",
       "    .dataframe thead th {\n",
       "        text-align: right;\n",
       "    }\n",
       "</style>\n",
       "<table border=\"1\" class=\"dataframe\">\n",
       "  <thead>\n",
       "    <tr style=\"text-align: right;\">\n",
       "      <th></th>\n",
       "      <th>0</th>\n",
       "    </tr>\n",
       "  </thead>\n",
       "  <tbody>\n",
       "    <tr>\n",
       "      <th>42241552</th>\n",
       "      <td>AATGGTACTGGAAAATTTGGTTTAAA</td>\n",
       "    </tr>\n",
       "    <tr>\n",
       "      <th>18749069</th>\n",
       "      <td>GCGAAGCGCACTGAAGAATGGCGGGCCC</td>\n",
       "    </tr>\n",
       "    <tr>\n",
       "      <th>21667805</th>\n",
       "      <td>GCGTAGGGCAAGGATGCATAGAGGGCCC</td>\n",
       "    </tr>\n",
       "    <tr>\n",
       "      <th>21697678</th>\n",
       "      <td>GCGTAGGGCACCGAAGAATAGACGCTGT</td>\n",
       "    </tr>\n",
       "    <tr>\n",
       "      <th>32876182</th>\n",
       "      <td>TCGTGACTCAGCGTAGAAGAGAGGCTGT</td>\n",
       "    </tr>\n",
       "    <tr>\n",
       "      <th>...</th>\n",
       "      <td>...</td>\n",
       "    </tr>\n",
       "    <tr>\n",
       "      <th>37046901</th>\n",
       "      <td>AAAAATAACGAAACAATCCCACATCACACC</td>\n",
       "    </tr>\n",
       "    <tr>\n",
       "      <th>20914640</th>\n",
       "      <td>GCGTAACTCACTGTAGAATGGAGACTGC</td>\n",
       "    </tr>\n",
       "    <tr>\n",
       "      <th>29332339</th>\n",
       "      <td>TCGAAGCGCACCGAAGCGTGGAGGCTCT</td>\n",
       "    </tr>\n",
       "    <tr>\n",
       "      <th>3118777</th>\n",
       "      <td>CCCAAGGGCACCGAAGAGGAGACAGTCT</td>\n",
       "    </tr>\n",
       "    <tr>\n",
       "      <th>14846733</th>\n",
       "      <td>GCCAGGCTCAACGATGAGTAGACGCTGG</td>\n",
       "    </tr>\n",
       "  </tbody>\n",
       "</table>\n",
       "<p>200 rows × 1 columns</p>\n",
       "</div>"
      ],
      "text/plain": [
       "                                       0\n",
       "42241552      AATGGTACTGGAAAATTTGGTTTAAA\n",
       "18749069    GCGAAGCGCACTGAAGAATGGCGGGCCC\n",
       "21667805    GCGTAGGGCAAGGATGCATAGAGGGCCC\n",
       "21697678    GCGTAGGGCACCGAAGAATAGACGCTGT\n",
       "32876182    TCGTGACTCAGCGTAGAAGAGAGGCTGT\n",
       "...                                  ...\n",
       "37046901  AAAAATAACGAAACAATCCCACATCACACC\n",
       "20914640    GCGTAACTCACTGTAGAATGGAGACTGC\n",
       "29332339    TCGAAGCGCACCGAAGCGTGGAGGCTCT\n",
       "3118777     CCCAAGGGCACCGAAGAGGAGACAGTCT\n",
       "14846733    GCCAGGCTCAACGATGAGTAGACGCTGG\n",
       "\n",
       "[200 rows x 1 columns]"
      ]
     },
     "execution_count": 115,
     "metadata": {},
     "output_type": "execute_result"
    }
   ],
   "source": [
    "data = pd.read_csv('motifs_ATFG.txt', header = None)\n",
    "samples_nb = 200\n",
    "motifs_df = data.sample(n = samples_nb)\n",
    "motifs_df"
   ]
  },
  {
   "cell_type": "code",
   "execution_count": 116,
   "metadata": {},
   "outputs": [
    {
     "data": {
      "text/plain": [
       "'G'"
      ]
     },
     "execution_count": 116,
     "metadata": {},
     "output_type": "execute_result"
    }
   ],
   "source": [
    "motifs_df.iloc[1,0][0]"
   ]
  },
  {
   "cell_type": "code",
   "execution_count": 117,
   "metadata": {},
   "outputs": [
    {
     "name": "stdout",
     "output_type": "stream",
     "text": [
      "Longueur minimum d\"un motif :  16\n",
      "Longueur maximal d\"un motif :  30\n"
     ]
    },
    {
     "data": {
      "image/png": "[encoded data removed]",
      "text/plain": [
       "<Figure size 432x288 with 1 Axes>"
      ]
     },
     "metadata": {
      "needs_background": "light"
     },
     "output_type": "display_data"
    }
   ],
   "source": [
    "# the histogram of motifs length\n",
    "x = [len(motifs_df.iat[i,0]) for i in range(0,len(motifs_df.index))]\n",
    "print('Longueur minimum d\"un motif : ', min(x))\n",
    "print('Longueur maximal d\"un motif : ', max(x))\n",
    "n, bins, patches = plt.hist(x, 50, density=True, facecolor='g', alpha=0.75)\n",
    "plt.title('Histogram of motifs length')\n",
    "plt.grid(True)\n",
    "plt.show()"
   ]
  },
  {
   "cell_type": "code",
   "execution_count": 118,
   "metadata": {},
   "outputs": [
    {
     "data": {
      "text/plain": [
       "{'A': 1490, 'T': 998, 'G': 1611, 'C': 1445}"
      ]
     },
     "execution_count": 118,
     "metadata": {},
     "output_type": "execute_result"
    }
   ],
   "source": [
    "nucl_counts = dict()\n",
    "for i in range(0,len(motifs_df.index)):\n",
    "  for i in motifs_df.iat[i,0]:\n",
    "    nucl_counts[i] = nucl_counts.get(i, 0) + 1\n",
    "nucl_counts"
   ]
  },
  {
   "cell_type": "code",
   "execution_count": 119,
   "metadata": {},
   "outputs": [
    {
     "data": {
      "image/png": "[encoded data removed]",
      "text/plain": [
       "<Figure size 432x288 with 1 Axes>"
      ]
     },
     "metadata": {
      "needs_background": "light"
     },
     "output_type": "display_data"
    }
   ],
   "source": [
    "nucl_counts_sorted = { k : v for k, v in sorted(nucl_counts.items(), key=lambda item: item[1])}\n",
    "\n",
    "names = list(nucl_counts_sorted.keys())\n",
    "values = list(nucl_counts_sorted.values())\n",
    "\n",
    "plt.bar(names, values)\n",
    "plt.suptitle('Categorical Plotting')\n",
    "plt.grid()\n",
    "plt.show()"
   ]
  },
  {
   "cell_type": "code",
   "execution_count": 120,
   "metadata": {},
   "outputs": [],
   "source": [
    "#dire si une séquence est ou non motif\n",
    "\n",
    "def est_motif(motifs_df,seq,seuil):\n",
    "    n,m = len(motifs_df.index),len(seq)\n",
    "    for i in range(n):\n",
    "        cur_dist = 0\n",
    "        if len(motifs_df.iat[i,0]) == m:\n",
    "            for j in range(m):\n",
    "                if motifs_df.iloc[i,0][0][j] == 'A' and seq[j] != 'A':\n",
    "                    cur_dist +=1\n",
    "                    #print(\"incrémente 1\")\n",
    "                elif motifs_df.iloc[i,0][0][j] == 'T' and seq[j] != 'T':\n",
    "                    cur_dist +=1\n",
    "                    #print(\"incrémente 2\")\n",
    "                elif motifs_df.iloc[i,0][0][j] == 'G' and seq[j] != 'G':\n",
    "                    cur_dist +=1\n",
    "                    #print(\"incrémente 3\")\n",
    "                elif motifs_df.iloc[i,0][0][j] == 'C' and seq[j] != 'C':\n",
    "                    cur_dist +=1\n",
    "                    #print(\"incrémente 4\")\n",
    "            print('cur dist',cur_dist)\n",
    "            print('cur %',int(seuil*m)+1)\n",
    "            if cur_dist <= int(seuil*m)+1:\n",
    "                return True\n",
    "    return False"
   ]
  },
  {
   "cell_type": "markdown",
   "metadata": {},
   "source": [
    "On prend la séquence d'adn du chromosome Y et on le met en majuscule"
   ]
  },
  {
   "cell_type": "code",
   "execution_count": 121,
   "metadata": {},
   "outputs": [],
   "source": [
    "with open(human_chy) as fasta_file:  # Will close handle cleanly\n",
    "    identifiers = []\n",
    "    seq_ADN = []\n",
    "    lengths = []\n",
    "    for seq_record in SeqIO.parse(fasta_file, 'fasta'):  # (generator)\n",
    "        identifiers.append(seq_record.id)\n",
    "        seq_ADN.append(seq_record.seq)\n",
    "        lengths.append(len(seq_record.seq))\n",
    "seq_ADN = str(seq_ADN[0])\n",
    "seq_ADN = seq_ADN.upper()"
   ]
  },
  {
   "cell_type": "code",
   "execution_count": 122,
   "metadata": {},
   "outputs": [],
   "source": [
    "i = 0\n",
    "while seq_ADN[i] == 'N': \n",
    "    i+=1\n",
    "seq_ADN = seq_ADN[i:]"
   ]
  },
  {
   "cell_type": "code",
   "execution_count": 123,
   "metadata": {},
   "outputs": [
    {
     "data": {
      "text/plain": [
       "'GGCC'"
      ]
     },
     "execution_count": 123,
     "metadata": {},
     "output_type": "execute_result"
    }
   ],
   "source": [
    "seq_ADN[0:4]"
   ]
  },
  {
   "cell_type": "markdown",
   "metadata": {},
   "source": [
    "A présent, on a notre séquence d'adn dans une string et on a enlevé tous les N du début"
   ]
  },
  {
   "cell_type": "code",
   "execution_count": 124,
   "metadata": {},
   "outputs": [],
   "source": [
    "def rolling_stone(liste_motifs,seq_ADN,seuil):\n",
    "    non_motif_list = []\n",
    "    batchsize = 25\n",
    "    for i in range(0,len(seq_ADN), batchsize):\n",
    "        batch = seq_ADN[i: i+batchsize]\n",
    "        for j in range(0,batchsize-5):\n",
    "            if est_motif(liste_motifs,batch[0:j+5],seuil) == False and batch[0:j+5] not in non_motif_list: #On ajoute ce non-motif à la liste\n",
    "                non_motif_list.append(batch[0:j+5])\n",
    "                break\n",
    "            if len(non_motif_list) >= 2000:\n",
    "                break\n",
    "        if len(non_motif_list) >= 2000:\n",
    "                max_i = i\n",
    "                break\n",
    "    print('max i : ',max_i)      \n",
    "    return non_motif_list\n",
    "\n"
   ]
  },
  {
   "cell_type": "code",
   "execution_count": 127,
   "metadata": {},
   "outputs": [
    {
     "name": "stdout",
     "output_type": "stream",
     "text": [
      "max i :  49975\n"
     ]
    },
    {
     "data": {
      "text/plain": [
       "2000"
      ]
     },
     "execution_count": 127,
     "metadata": {},
     "output_type": "execute_result"
    }
   ],
   "source": [
    "non_motif_list = rolling_stone(motifs_df, seq_ADN, 0.3)\n",
    "len(non_motif_list)"
   ]
  },
  {
   "cell_type": "code",
   "execution_count": 126,
   "metadata": {},
   "outputs": [
    {
     "name": "stdout",
     "output_type": "stream",
     "text": [
      "Longueur minimum d\"un motif :  5\n",
      "Longueur maximal d\"un motif :  9\n"
     ]
    },
    {
     "data": {
      "image/png": "[encoded data removed]",
      "text/plain": [
       "<Figure size 432x288 with 1 Axes>"
      ]
     },
     "metadata": {
      "needs_background": "light"
     },
     "output_type": "display_data"
    }
   ],
   "source": [
    "# the histogram of motifs length\n",
    "x = [len(non_motif_list[i]) for i in range(0,len(non_motif_list))]\n",
    "print('Longueur minimum d\"un motif : ', min(x))\n",
    "print('Longueur maximal d\"un motif : ', max(x))\n",
    "n, bins, patches = plt.hist(x, 50, density=True, facecolor='g', alpha=0.75)\n",
    "plt.title('Histogram of non-motifs length')\n",
    "plt.grid(True)\n",
    "plt.show()"
   ]
  }
 ],
 "metadata": {
  "kernelspec": {
   "display_name": "Python 3.9.12 ('base')",
   "language": "python",
   "name": "python3"
  },
  "language_info": {
   "codemirror_mode": {
    "name": "ipython",
    "version": 3
   },
   "file_extension": ".py",
   "mimetype": "text/x-python",
   "name": "python",
   "nbconvert_exporter": "python",
   "pygments_lexer": "ipython3",
   "version": "3.9.12"
  },
  "orig_nbformat": 4,
  "vscode": {
   "interpreter": {
    "hash": "88ad17cbfc27b0695cf6bc9868144acf877a07f0318cb41ac12338475bf626d1"
   }
  }
 },
 "nbformat": 4,
 "nbformat_minor": 2
}
