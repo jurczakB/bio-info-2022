{
 "cells": [
  {
   "cell_type": "code",
   "execution_count": 1,
   "metadata": {},
   "outputs": [],
   "source": [
    "from Bio import SeqIO\n",
    "import matplotlib.pyplot as plt\n",
    "import numpy as np\n",
    "import re\n",
    "from collections import Counter\n",
    "import pandas as pd\n",
    "import io\n",
    "import itertools\n",
    "import random"
   ]
  },
  {
   "cell_type": "code",
   "execution_count": 12,
   "metadata": {},
   "outputs": [],
   "source": [
    "human_chy = '../data/Homo_sapiens.GRCh38.dna_sm.chromosome.Y.fa'\n",
    "motifs_input = '../data/human_motifs.fa'"
   ]
  },
  {
   "cell_type": "code",
   "execution_count": 2,
   "metadata": {},
   "outputs": [],
   "source": [
    "# Crée les séquences de motifs à partir des probabilités contenus dans le fichier fasta. \n",
    "# Si la probabilité d'un nucléotide est supérieur au seuil, alors on considère qu'il fait parti du motif.\n",
    "# Ensuite, un produit cartésien est fait pour créer toutes les séquences possibles et on les écrit dans un fichier.\n",
    "def seq_ACGT(seuil_proba, motif,file):\n",
    "    seq_ACGT = []\n",
    "    for i in range(0,len(motif), 4):\n",
    "        seq = motif[i:i+4]\n",
    "        tmp = []\n",
    "        if float(seq[0]) >= seuil_proba:\n",
    "            tmp.append('A')\n",
    "        if float(seq[1]) >= seuil_proba:\n",
    "            tmp.append('C')\n",
    "        if float(seq[2]) >= seuil_proba:\n",
    "            tmp.append('G')\n",
    "        if float(seq[3]) >= seuil_proba:\n",
    "            tmp.append('T')\n",
    "        seq_ACGT.append(tmp)\n",
    "    file.write('\\n'.join(map(''.join,list(itertools.product(*seq_ACGT)))))\n",
    "    file.write('\\n')"
   ]
  },
  {
   "cell_type": "code",
   "execution_count": 5,
   "metadata": {},
   "outputs": [],
   "source": [
    "with open(motifs_input) as fasta_file:  \n",
    "    identifiers = []\n",
    "    seq_ADN = []\n",
    "    lengths = []\n",
    "    for seq_record in SeqIO.parse(fasta_file, 'fasta'):  \n",
    "        identifiers.append(seq_record.id)\n",
    "        seq_ADN.append(seq_record.seq)\n",
    "        lengths.append(len(seq_record.seq))\n",
    "file = open('motifs_ATFG.txt',\"w\")\n",
    "\n",
    "motifs = []\n",
    "for i in range(0,len(seq_ADN)):\n",
    "    seq = re.findall('\\d.\\d{6}',str(seq_ADN[i])) #Extraction des probabilités dans le fichier fasta\n",
    "    seq_ACGT(0.25,seq, file)\n",
    "file.close()"
   ]
  },
  {
   "cell_type": "code",
   "execution_count": 14,
   "metadata": {},
   "outputs": [],
   "source": [
    "data_motifs = pd.read_csv('motifs_ATFG.txt', header = None)\n"
   ]
  },
  {
   "cell_type": "code",
   "execution_count": 5,
   "metadata": {},
   "outputs": [
    {
     "data": {
      "text/html": [
       "<div>\n",
       "<style scoped>\n",
       "    .dataframe tbody tr th:only-of-type {\n",
       "        vertical-align: middle;\n",
       "    }\n",
       "\n",
       "    .dataframe tbody tr th {\n",
       "        vertical-align: top;\n",
       "    }\n",
       "\n",
       "    .dataframe thead th {\n",
       "        text-align: right;\n",
       "    }\n",
       "</style>\n",
       "<table border=\"1\" class=\"dataframe\">\n",
       "  <thead>\n",
       "    <tr style=\"text-align: right;\">\n",
       "      <th></th>\n",
       "      <th>0</th>\n",
       "    </tr>\n",
       "  </thead>\n",
       "  <tbody>\n",
       "    <tr>\n",
       "      <th>0</th>\n",
       "      <td>GAAATGTAGT</td>\n",
       "    </tr>\n",
       "    <tr>\n",
       "      <th>1</th>\n",
       "      <td>GAATTGTAGT</td>\n",
       "    </tr>\n",
       "    <tr>\n",
       "      <th>2</th>\n",
       "      <td>GAGATGTAGT</td>\n",
       "    </tr>\n",
       "    <tr>\n",
       "      <th>3</th>\n",
       "      <td>GAGTTGTAGT</td>\n",
       "    </tr>\n",
       "    <tr>\n",
       "      <th>4</th>\n",
       "      <td>GTCACGTGAC</td>\n",
       "    </tr>\n",
       "    <tr>\n",
       "      <th>...</th>\n",
       "      <td>...</td>\n",
       "    </tr>\n",
       "    <tr>\n",
       "      <th>45737693</th>\n",
       "      <td>CAGGGGTCACAGG</td>\n",
       "    </tr>\n",
       "    <tr>\n",
       "      <th>45737694</th>\n",
       "      <td>CAGGGGTCACGAG</td>\n",
       "    </tr>\n",
       "    <tr>\n",
       "      <th>45737695</th>\n",
       "      <td>CAGGGGTCACGGG</td>\n",
       "    </tr>\n",
       "    <tr>\n",
       "      <th>45737696</th>\n",
       "      <td>AAAGGTCAAAAGGTCA</td>\n",
       "    </tr>\n",
       "    <tr>\n",
       "      <th>45737697</th>\n",
       "      <td>AAAGGTCAAGAGGTCA</td>\n",
       "    </tr>\n",
       "  </tbody>\n",
       "</table>\n",
       "<p>45737698 rows × 1 columns</p>\n",
       "</div>"
      ],
      "text/plain": [
       "                         0\n",
       "0               GAAATGTAGT\n",
       "1               GAATTGTAGT\n",
       "2               GAGATGTAGT\n",
       "3               GAGTTGTAGT\n",
       "4               GTCACGTGAC\n",
       "...                    ...\n",
       "45737693     CAGGGGTCACAGG\n",
       "45737694     CAGGGGTCACGAG\n",
       "45737695     CAGGGGTCACGGG\n",
       "45737696  AAAGGTCAAAAGGTCA\n",
       "45737697  AAAGGTCAAGAGGTCA\n",
       "\n",
       "[45737698 rows x 1 columns]"
      ]
     },
     "execution_count": 5,
     "metadata": {},
     "output_type": "execute_result"
    }
   ],
   "source": [
    "data_motifs"
   ]
  },
  {
   "cell_type": "code",
   "execution_count": 15,
   "metadata": {},
   "outputs": [
    {
     "data": {
      "text/html": [
       "<div>\n",
       "<style scoped>\n",
       "    .dataframe tbody tr th:only-of-type {\n",
       "        vertical-align: middle;\n",
       "    }\n",
       "\n",
       "    .dataframe tbody tr th {\n",
       "        vertical-align: top;\n",
       "    }\n",
       "\n",
       "    .dataframe thead th {\n",
       "        text-align: right;\n",
       "    }\n",
       "</style>\n",
       "<table border=\"1\" class=\"dataframe\">\n",
       "  <thead>\n",
       "    <tr style=\"text-align: right;\">\n",
       "      <th></th>\n",
       "      <th>0</th>\n",
       "    </tr>\n",
       "  </thead>\n",
       "  <tbody>\n",
       "    <tr>\n",
       "      <th>11049418</th>\n",
       "      <td>CCGTAGGGCAAGGATGAGGGGACACTGT</td>\n",
       "    </tr>\n",
       "    <tr>\n",
       "      <th>35623501</th>\n",
       "      <td>AAAAAAAACGCACAATGCTATCCTCATCCC</td>\n",
       "    </tr>\n",
       "    <tr>\n",
       "      <th>24917011</th>\n",
       "      <td>TCCAGACTCAGCGTAGCGGAGAGGCTCT</td>\n",
       "    </tr>\n",
       "    <tr>\n",
       "      <th>17330668</th>\n",
       "      <td>GCCTGGCGCAACGAAGAGTAGCGGGAGT</td>\n",
       "    </tr>\n",
       "    <tr>\n",
       "      <th>10216327</th>\n",
       "      <td>CCGTAACTCAAGGAAGCAGAGAGGCACT</td>\n",
       "    </tr>\n",
       "    <tr>\n",
       "      <th>...</th>\n",
       "      <td>...</td>\n",
       "    </tr>\n",
       "    <tr>\n",
       "      <th>16122049</th>\n",
       "      <td>GCCTAGCGCAGCGTAGAATAGAGAGTCT</td>\n",
       "    </tr>\n",
       "    <tr>\n",
       "      <th>31384786</th>\n",
       "      <td>TCGTAACGCAGCGTAGAGGGGCGGGCGT</td>\n",
       "    </tr>\n",
       "    <tr>\n",
       "      <th>13826265</th>\n",
       "      <td>GCCAAGGGCAGGGTTGCGTAGCGGCAGG</td>\n",
       "    </tr>\n",
       "    <tr>\n",
       "      <th>41468009</th>\n",
       "      <td>TGTGTTGGGACAGTGTGTTCTCGGTGG</td>\n",
       "    </tr>\n",
       "    <tr>\n",
       "      <th>35120106</th>\n",
       "      <td>GTCGATTCCCCAAAGAACTGGT</td>\n",
       "    </tr>\n",
       "  </tbody>\n",
       "</table>\n",
       "<p>100 rows × 1 columns</p>\n",
       "</div>"
      ],
      "text/plain": [
       "                                       0\n",
       "11049418    CCGTAGGGCAAGGATGAGGGGACACTGT\n",
       "35623501  AAAAAAAACGCACAATGCTATCCTCATCCC\n",
       "24917011    TCCAGACTCAGCGTAGCGGAGAGGCTCT\n",
       "17330668    GCCTGGCGCAACGAAGAGTAGCGGGAGT\n",
       "10216327    CCGTAACTCAAGGAAGCAGAGAGGCACT\n",
       "...                                  ...\n",
       "16122049    GCCTAGCGCAGCGTAGAATAGAGAGTCT\n",
       "31384786    TCGTAACGCAGCGTAGAGGGGCGGGCGT\n",
       "13826265    GCCAAGGGCAGGGTTGCGTAGCGGCAGG\n",
       "41468009     TGTGTTGGGACAGTGTGTTCTCGGTGG\n",
       "35120106          GTCGATTCCCCAAAGAACTGGT\n",
       "\n",
       "[100 rows x 1 columns]"
      ]
     },
     "execution_count": 15,
     "metadata": {},
     "output_type": "execute_result"
    }
   ],
   "source": [
    "#Pour notre ensemble, on choisit alétoirement 10000 motifs.\n",
    "samples_nb = 10000\n",
    "motifs_df = data_motifs.sample(n = samples_nb, random_state=42) \n",
    "motifs_df"
   ]
  },
  {
   "cell_type": "code",
   "execution_count": 16,
   "metadata": {},
   "outputs": [
    {
     "name": "stdout",
     "output_type": "stream",
     "text": [
      "Longueur minimum d\"un motif :  17\n",
      "Longueur maximal d\"un motif :  30\n"
     ]
    },
    {
     "data": {
      "image/png": "[encoded data removed]",
      "text/plain": [
       "<Figure size 432x288 with 1 Axes>"
      ]
     },
     "metadata": {
      "needs_background": "light"
     },
     "output_type": "display_data"
    }
   ],
   "source": [
    "# the histogram of motifs length\n",
    "x = [len(motifs_df.iat[i,0]) for i in range(0,len(motifs_df.index))]\n",
    "min_len_motif = min(x)\n",
    "max_len_motif = max(x)\n",
    "print('Longueur minimum d\"un motif : ', min(x))\n",
    "print('Longueur maximal d\"un motif : ', max(x))\n",
    "n, bins, patches = plt.hist(x, 50, density=True, facecolor='g', alpha=0.75)\n",
    "plt.title('Histogram of motifs length')\n",
    "plt.grid(True)\n",
    "plt.show()"
   ]
  },
  {
   "cell_type": "code",
   "execution_count": 17,
   "metadata": {},
   "outputs": [
    {
     "data": {
      "text/plain": [
       "19     1\n",
       "24     1\n",
       "17     2\n",
       "29     2\n",
       "22     3\n",
       "27     3\n",
       "26    10\n",
       "30    11\n",
       "28    67\n",
       "dtype: int64"
      ]
     },
     "execution_count": 17,
     "metadata": {},
     "output_type": "execute_result"
    }
   ],
   "source": [
    "#Occurence of each length\n",
    "len_motifs = pd.DataFrame(x)\n",
    "len_motifs.value_counts(ascending=True)"
   ]
  },
  {
   "cell_type": "code",
   "execution_count": 18,
   "metadata": {},
   "outputs": [
    {
     "data": {
      "text/plain": [
       "{'C': 684, 'G': 855, 'T': 500, 'A': 709}"
      ]
     },
     "execution_count": 18,
     "metadata": {},
     "output_type": "execute_result"
    }
   ],
   "source": [
    "nucl_counts = dict()\n",
    "for i in range(0,len(motifs_df.index)):\n",
    "  for i in motifs_df.iat[i,0]:\n",
    "    nucl_counts[i] = nucl_counts.get(i, 0) + 1\n",
    "nucl_counts"
   ]
  },
  {
   "cell_type": "code",
   "execution_count": 19,
   "metadata": {},
   "outputs": [
    {
     "data": {
      "image/png": "[encoded data removed]",
      "text/plain": [
       "<Figure size 432x288 with 1 Axes>"
      ]
     },
     "metadata": {
      "needs_background": "light"
     },
     "output_type": "display_data"
    }
   ],
   "source": [
    "#Histogram of nucleotids\n",
    "nucl_counts_sorted = { k : v for k, v in sorted(nucl_counts.items(), key=lambda item: item[1])}\n",
    "\n",
    "names = list(nucl_counts_sorted.keys())\n",
    "values = list(nucl_counts_sorted.values())\n",
    "\n",
    "plt.bar(names, values)\n",
    "plt.suptitle('Categorical Plotting')\n",
    "plt.grid()\n",
    "plt.show()"
   ]
  },
  {
   "cell_type": "code",
   "execution_count": 20,
   "metadata": {},
   "outputs": [],
   "source": [
    "#dire si une séquence est ou non motif\n",
    "\n",
    "def est_motif(motifs_df,seq,seuil):\n",
    "    n,m = len(motifs_df.index),len(seq)\n",
    "    for i in range(n):\n",
    "        cur_dist = 0\n",
    "        if len(motifs_df.iat[i,0]) == m:\n",
    "            for j in range(m):\n",
    "                if motifs_df.iloc[i,0][j] == 'A' and seq[j] != 'A':\n",
    "                    cur_dist +=1\n",
    "                    #print(\"incrémente 1\")\n",
    "                elif motifs_df.iloc[i,0][j] == 'T' and seq[j] != 'T':\n",
    "                    cur_dist +=1\n",
    "                    #print(\"incrémente 2\")\n",
    "                elif motifs_df.iloc[i,0][j] == 'G' and seq[j] != 'G':\n",
    "                    cur_dist +=1\n",
    "                    #print(\"incrémente 3\")\n",
    "                elif motifs_df.iloc[i,0][j] == 'C' and seq[j] != 'C':\n",
    "                    cur_dist +=1\n",
    "            if cur_dist <= int(seuil*m)+1:\n",
    "                return True\n",
    "    return False"
   ]
  },
  {
   "cell_type": "code",
   "execution_count": 21,
   "metadata": {},
   "outputs": [
    {
     "data": {
      "text/plain": [
       "False"
      ]
     },
     "execution_count": 21,
     "metadata": {},
     "output_type": "execute_result"
    }
   ],
   "source": [
    "est_motif(motifs_df, 'GGCCGGGCGC', 0.1)"
   ]
  },
  {
   "cell_type": "markdown",
   "metadata": {},
   "source": [
    "On prend la séquence d'adn du chromosome Y et on le met en majuscule"
   ]
  },
  {
   "cell_type": "code",
   "execution_count": 22,
   "metadata": {},
   "outputs": [],
   "source": [
    "with open(human_chy) as fasta_file:  # Will close handle cleanly\n",
    "    identifiers = []\n",
    "    seq_ADN = []\n",
    "    lengths = []\n",
    "    for seq_record in SeqIO.parse(fasta_file, 'fasta'):  # (generator)\n",
    "        identifiers.append(seq_record.id)\n",
    "        seq_ADN.append(seq_record.seq)\n",
    "        lengths.append(len(seq_record.seq))\n",
    "seq_ADN = str(seq_ADN[0])\n",
    "seq_ADN = seq_ADN.upper()"
   ]
  },
  {
   "cell_type": "code",
   "execution_count": 23,
   "metadata": {},
   "outputs": [],
   "source": [
    "#On enlève les premiers termes égals à N\n",
    "i = 0\n",
    "while seq_ADN[i] == 'N': \n",
    "    i+=1\n",
    "seq_ADN = seq_ADN[i:]"
   ]
  },
  {
   "cell_type": "code",
   "execution_count": 24,
   "metadata": {},
   "outputs": [
    {
     "data": {
      "text/plain": [
       "'GGCC'"
      ]
     },
     "execution_count": 24,
     "metadata": {},
     "output_type": "execute_result"
    }
   ],
   "source": [
    "seq_ADN[0:4]"
   ]
  },
  {
   "cell_type": "markdown",
   "metadata": {},
   "source": [
    "A présent, on a notre séquence d'adn dans une string et on a enlevé tous les N du début"
   ]
  },
  {
   "cell_type": "code",
   "execution_count": 25,
   "metadata": {},
   "outputs": [],
   "source": [
    "#Selection des non motifs : longueur aléatoire comprise entre les longueurs min et max des motifs\n",
    "#En se basant sur la mesure de Hamming, on prend alors autant de non-motifs que de motifs\n",
    "\n",
    "def random_selection(liste_motifs,seq_ADN,seuil):\n",
    "    non_motif_list = []\n",
    "    x = [len(liste_motifs.iat[i,0]) for i in range(0,len(liste_motifs.index))]\n",
    "    min_len_motif = min(x)\n",
    "    max_len_motif = max(x)\n",
    "    bLen = False\n",
    "    while bLen == False:\n",
    "        for i in range(0,len(seq_ADN)):\n",
    "            random_len = random.randint(min_len_motif,max_len_motif)\n",
    "            if est_motif(liste_motifs,seq_ADN[i:i+random_len],seuil) == False and seq_ADN[i:i+random_len] not in non_motif_list: #On ajoute ce non-motif à la liste\n",
    "                non_motif_list.append(seq_ADN[i:i+random_len])\n",
    "            if len(non_motif_list) >= len(liste_motifs):\n",
    "                bLen = True\n",
    "                break\n",
    "\n",
    "            \n",
    "    return non_motif_list\n",
    "\n",
    "    "
   ]
  },
  {
   "cell_type": "code",
   "execution_count": 26,
   "metadata": {},
   "outputs": [],
   "source": [
    "non_motif_list = random_selection(motifs_df, seq_ADN, 0.2)"
   ]
  },
  {
   "cell_type": "code",
   "execution_count": 20,
   "metadata": {},
   "outputs": [],
   "source": [
    "#Ecriture des non-motifs dans un fichier txt\n",
    "\n",
    "for non_motif in non_motif_list:\n",
    "    file.write(non_motif)\n",
    "    file.write('\\n')\n",
    "file.close()"
   ]
  },
  {
   "cell_type": "code",
   "execution_count": 22,
   "metadata": {},
   "outputs": [],
   "source": [
    "#Afin que les classificateurs puissent travailler sur les données, on transforme nos nucléotides en chiffres\n",
    "\n",
    "def word_to_numbers(list_motifs):\n",
    "    n = len(list_motifs)\n",
    "    list_motifs_nombres = []\n",
    "    for i in range(n):\n",
    "        new = ''\n",
    "        for j in list_motifs[i]:\n",
    "            if j == 'A':\n",
    "                #print('A')\n",
    "                new += '1'\n",
    "            elif j == 'C':\n",
    "                #print('C')\n",
    "                new += '2'\n",
    "            elif j == 'G':\n",
    "                #print('G')\n",
    "                new += '3'\n",
    "            elif j == 'T':\n",
    "                #print('T')\n",
    "                new += '4'\n",
    "        list_motifs_nombres.append(new)\n",
    "    return list_motifs_nombres"
   ]
  },
  {
   "cell_type": "code",
   "execution_count": 23,
   "metadata": {},
   "outputs": [],
   "source": [
    "motifs = motifs_df[0].values.tolist()"
   ]
  },
  {
   "cell_type": "code",
   "execution_count": 24,
   "metadata": {},
   "outputs": [],
   "source": [
    "motifs_numbers = word_to_numbers(motifs)\n",
    "non_motifs_numbers = word_to_numbers(non_motif_list)"
   ]
  },
  {
   "cell_type": "code",
   "execution_count": 25,
   "metadata": {},
   "outputs": [],
   "source": [
    "#Mise en place des labels de nos séquences : motif / non-motif\n",
    "\n",
    "list_of_zeros = [0 for i in range(len(motifs))] #MOTIFS\n",
    "list_of_ones = [1 for i in range(len(non_motif_list))]\n",
    "\n",
    "motifs_numbers_df = pd.DataFrame(list(zip(motifs_numbers, list_of_zeros)),columns =['sequence', 'etiquette'])\n",
    "#motifs_numbers_df\n",
    "\n",
    "non_motifs_numbers_df = pd.DataFrame(list(zip(non_motifs_numbers, list_of_ones)),columns =['sequence', 'etiquette'])\n",
    "#non_motifs_numbers_df"
   ]
  },
  {
   "cell_type": "code",
   "execution_count": 26,
   "metadata": {},
   "outputs": [
    {
     "data": {
      "text/html": [
       "<div>\n",
       "<style scoped>\n",
       "    .dataframe tbody tr th:only-of-type {\n",
       "        vertical-align: middle;\n",
       "    }\n",
       "\n",
       "    .dataframe tbody tr th {\n",
       "        vertical-align: top;\n",
       "    }\n",
       "\n",
       "    .dataframe thead th {\n",
       "        text-align: right;\n",
       "    }\n",
       "</style>\n",
       "<table border=\"1\" class=\"dataframe\">\n",
       "  <thead>\n",
       "    <tr style=\"text-align: right;\">\n",
       "      <th></th>\n",
       "      <th>sequence</th>\n",
       "      <th>etiquette</th>\n",
       "    </tr>\n",
       "  </thead>\n",
       "  <tbody>\n",
       "    <tr>\n",
       "      <th>0</th>\n",
       "      <td>2234133321133143133331212434</td>\n",
       "      <td>0</td>\n",
       "    </tr>\n",
       "    <tr>\n",
       "      <th>1</th>\n",
       "      <td>111111112321211432414224214222</td>\n",
       "      <td>0</td>\n",
       "    </tr>\n",
       "    <tr>\n",
       "      <th>2</th>\n",
       "      <td>4221312421323413233131332424</td>\n",
       "      <td>0</td>\n",
       "    </tr>\n",
       "    <tr>\n",
       "      <th>3</th>\n",
       "      <td>3224332321123113134132333134</td>\n",
       "      <td>0</td>\n",
       "    </tr>\n",
       "    <tr>\n",
       "      <th>4</th>\n",
       "      <td>2234112421133113213131332124</td>\n",
       "      <td>0</td>\n",
       "    </tr>\n",
       "    <tr>\n",
       "      <th>...</th>\n",
       "      <td>...</td>\n",
       "      <td>...</td>\n",
       "    </tr>\n",
       "    <tr>\n",
       "      <th>9995</th>\n",
       "      <td>41432111212</td>\n",
       "      <td>1</td>\n",
       "    </tr>\n",
       "    <tr>\n",
       "      <th>9996</th>\n",
       "      <td>1432111212134441221</td>\n",
       "      <td>1</td>\n",
       "    </tr>\n",
       "    <tr>\n",
       "      <th>9997</th>\n",
       "      <td>43211121213</td>\n",
       "      <td>1</td>\n",
       "    </tr>\n",
       "    <tr>\n",
       "      <th>9998</th>\n",
       "      <td>3211121213444</td>\n",
       "      <td>1</td>\n",
       "    </tr>\n",
       "    <tr>\n",
       "      <th>9999</th>\n",
       "      <td>2111212134441221243</td>\n",
       "      <td>1</td>\n",
       "    </tr>\n",
       "  </tbody>\n",
       "</table>\n",
       "<p>20000 rows × 2 columns</p>\n",
       "</div>"
      ],
      "text/plain": [
       "                            sequence  etiquette\n",
       "0       2234133321133143133331212434          0\n",
       "1     111111112321211432414224214222          0\n",
       "2       4221312421323413233131332424          0\n",
       "3       3224332321123113134132333134          0\n",
       "4       2234112421133113213131332124          0\n",
       "...                              ...        ...\n",
       "9995                     41432111212          1\n",
       "9996             1432111212134441221          1\n",
       "9997                     43211121213          1\n",
       "9998                   3211121213444          1\n",
       "9999             2111212134441221243          1\n",
       "\n",
       "[20000 rows x 2 columns]"
      ]
     },
     "execution_count": 26,
     "metadata": {},
     "output_type": "execute_result"
    }
   ],
   "source": [
    "#Création du dataset final contenant 10000 motifs et 10000 non-motifs, le tout étiquetté\n",
    "final_df = pd.concat([motifs_numbers_df, non_motifs_numbers_df])\n",
    "final_df"
   ]
  },
  {
   "cell_type": "code",
   "execution_count": 21,
   "metadata": {},
   "outputs": [],
   "source": [
    "#to csv\n",
    "\n",
    "final_df.to_csv('train.csv', index=False)"
   ]
  }
 ],
 "metadata": {
  "kernelspec": {
   "display_name": "Python 3.9.12 ('base')",
   "language": "python",
   "name": "python3"
  },
  "language_info": {
   "codemirror_mode": {
    "name": "ipython",
    "version": 3
   },
   "file_extension": ".py",
   "mimetype": "text/x-python",
   "name": "python",
   "nbconvert_exporter": "python",
   "pygments_lexer": "ipython3",
   "version": "3.9.12"
  },
  "orig_nbformat": 4,
  "vscode": {
   "interpreter": {
    "hash": "88ad17cbfc27b0695cf6bc9868144acf877a07f0318cb41ac12338475bf626d1"
   }
  }
 },
 "nbformat": 4,
 "nbformat_minor": 2
}
