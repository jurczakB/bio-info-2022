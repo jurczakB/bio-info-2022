{
 "cells": [
  {
   "cell_type": "code",
   "execution_count": null,
   "metadata": {},
   "outputs": [],
   "source": [
    "from Bio import SeqIO\n",
    "import matplotlib.pyplot as plt\n",
    "import numpy as np\n",
    "import re\n",
    "from collections import Counter\n",
    "import pandas as pd\n",
    "import io\n",
    "import itertools"
   ]
  },
  {
   "cell_type": "code",
   "execution_count": null,
   "metadata": {},
   "outputs": [],
   "source": [
    "human_chy = '../data/Homo_sapiens.GRCh38.dna_sm.chromosome.Y.fa'\n",
    "motifs_input = '../data/human_motifs.fa'"
   ]
  },
  {
   "cell_type": "code",
   "execution_count": null,
   "metadata": {},
   "outputs": [],
   "source": [
    "def seq_ACGT(seuil_proba, motif,file):\n",
    "    seq_ACGT = []\n",
    "    for i in range(0,len(motif), 4):\n",
    "        seq = motif[i:i+4]\n",
    "        tmp = []\n",
    "        if float(seq[0]) >= seuil_proba:\n",
    "            tmp.append('A')\n",
    "        if float(seq[1]) >= seuil_proba:\n",
    "            tmp.append('C')\n",
    "        if float(seq[2]) >= seuil_proba:\n",
    "            tmp.append('G')\n",
    "        if float(seq[3]) >= seuil_proba:\n",
    "            tmp.append('T')\n",
    "        seq_ACGT.append(tmp)\n",
    "    file.write('\\n'.join(map(''.join,list(itertools.product(*seq_ACGT)))))\n",
    "    file.write('\\n')"
   ]
  },
  {
   "cell_type": "code",
   "execution_count": null,
   "metadata": {},
   "outputs": [],
   "source": [
    "with open(motifs_input) as fasta_file:  # Will close handle cleanly\n",
    "    identifiers = []\n",
    "    seq_ADN = []\n",
    "    lengths = []\n",
    "    for seq_record in SeqIO.parse(fasta_file, 'fasta'):  # (generator)\n",
    "        identifiers.append(seq_record.id)\n",
    "        seq_ADN.append(seq_record.seq)\n",
    "        lengths.append(len(seq_record.seq))\n",
    "file = open('motifs_ATFG.txt',\"w\")\n",
    "\n",
    "motifs = []\n",
    "for i in range(0,len(seq_ADN)):\n",
    "    seq = re.findall('\\d.\\d{6}',str(seq_ADN[i]))\n",
    "    seq_ACGT(0.25,seq, file)\n",
    "file.close()"
   ]
  },
  {
   "cell_type": "code",
   "execution_count": null,
   "metadata": {},
   "outputs": [],
   "source": [
    "#file = open('motifs_ATFG.txt',\"w\")\n",
    "#file.close()"
   ]
  },
  {
   "cell_type": "code",
   "execution_count": null,
   "metadata": {},
   "outputs": [],
   "source": [
    "data = pd.read_csv('motifs_ATFG.txt', header = None)\n",
    "samples_nb = 200\n",
    "motifs_df = data.sample(n = samples_nb)\n",
    "motifs_df"
   ]
  },
  {
   "cell_type": "code",
   "execution_count": null,
   "metadata": {},
   "outputs": [],
   "source": [
    "motifs_df.iloc[1,0][0]"
   ]
  },
  {
   "cell_type": "code",
   "execution_count": null,
   "metadata": {},
   "outputs": [],
   "source": [
    "# the histogram of motifs length\n",
    "x = [len(motifs_df.iat[i,0]) for i in range(0,len(motifs_df.index))]\n",
    "print('Longueur minimum d\"un motif : ', min(x))\n",
    "print('Longueur maximal d\"un motif : ', max(x))\n",
    "n, bins, patches = plt.hist(x, 50, density=True, facecolor='g', alpha=0.75)\n",
    "plt.title('Histogram of motifs length')\n",
    "plt.grid(True)\n",
    "plt.show()"
   ]
  },
  {
   "cell_type": "code",
   "execution_count": null,
   "metadata": {},
   "outputs": [],
   "source": [
    "nucl_counts = dict()\n",
    "for i in range(0,len(motifs_df.index)):\n",
    "  for i in motifs_df.iat[i,0]:\n",
    "    nucl_counts[i] = nucl_counts.get(i, 0) + 1\n",
    "nucl_counts"
   ]
  },
  {
   "cell_type": "code",
   "execution_count": null,
   "metadata": {},
   "outputs": [],
   "source": [
    "nucl_counts_sorted = { k : v for k, v in sorted(nucl_counts.items(), key=lambda item: item[1])}\n",
    "\n",
    "names = list(nucl_counts_sorted.keys())\n",
    "values = list(nucl_counts_sorted.values())\n",
    "\n",
    "plt.bar(names, values)\n",
    "plt.suptitle('Categorical Plotting')\n",
    "plt.grid()\n",
    "plt.show()"
   ]
  },
  {
   "cell_type": "code",
   "execution_count": null,
   "metadata": {},
   "outputs": [],
   "source": [
    "#dire si une séquence est ou non motif\n",
    "\n",
    "def est_motif(motifs_df,seq,seuil):\n",
    "    n,m = len(motifs_df.index),len(seq)\n",
    "    for i in range(n):\n",
    "        cur_dist = 0\n",
    "        if len(motifs_df.iat[i,0]) == m:\n",
    "            print(\"comparaison avec: \" + motifs_df.iat[i,0])\n",
    "            for j in range(m):\n",
    "                if motifs_df.iloc[i,0][0][j] == 'A' and seq[j] != 'A':\n",
    "                    cur_dist +=1\n",
    "                    #print(\"incrémente 1\")\n",
    "                elif motifs_df.iloc[i,0][0][j] == 'T' and seq[j] != 'T':\n",
    "                    cur_dist +=1\n",
    "                    #print(\"incrémente 2\")\n",
    "                elif motifs_df.iloc[i,0][0][j] == 'G' and seq[j] != 'G':\n",
    "                    cur_dist +=1\n",
    "                    #print(\"incrémente 3\")\n",
    "                elif motifs_df.iloc[i,0][0][j] == 'C' and seq[j] != 'C':\n",
    "                    cur_dist +=1\n",
    "                    #print(\"incrémente 4\")\n",
    "            print('cur dist',cur_dist)\n",
    "            print('cur %',int(seuil*m)+1)\n",
    "            if cur_dist <= int(seuil*m)+1:\n",
    "                return True\n",
    "    return False"
   ]
  },
  {
   "cell_type": "markdown",
   "metadata": {},
   "source": [
    "On prend la séquence d'adn du chromosome Y et on le met en majuscule"
   ]
  },
  {
   "cell_type": "code",
   "execution_count": null,
   "metadata": {},
   "outputs": [],
   "source": [
    "with open(human_chy) as fasta_file:  # Will close handle cleanly\n",
    "    identifiers = []\n",
    "    seq_ADN = []\n",
    "    lengths = []\n",
    "    for seq_record in SeqIO.parse(fasta_file, 'fasta'):  # (generator)\n",
    "        identifiers.append(seq_record.id)\n",
    "        seq_ADN.append(seq_record.seq)\n",
    "        lengths.append(len(seq_record.seq))\n",
    "seq_ADN = str(seq_ADN[0])\n",
    "seq_ADN = seq_ADN.upper()"
   ]
  },
  {
   "cell_type": "code",
   "execution_count": null,
   "metadata": {},
   "outputs": [],
   "source": [
    "i = 0\n",
    "while seq_ADN[i] == 'N': \n",
    "    i+=1\n",
    "seq_ADN = seq_ADN[i:]"
   ]
  },
  {
   "cell_type": "code",
   "execution_count": null,
   "metadata": {},
   "outputs": [],
   "source": [
    "seq_ADN[0:4]"
   ]
  },
  {
   "cell_type": "markdown",
   "metadata": {},
   "source": [
    "A présent, on a notre séquence d'adn dans une string et on a enlevé tous les N du début"
   ]
  },
  {
   "cell_type": "code",
   "execution_count": null,
   "metadata": {},
   "outputs": [],
   "source": [
    "def rolling_stone(liste_motifs,seq_ADN,seuil):\n",
    "    non_motif_list = []\n",
    "    batchsize = 25\n",
    "    for i in range(0,len(seq_ADN), batchsize):\n",
    "        batch = seq_ADN[i: i+batchsize]\n",
    "        for j in range(0,batchsize-5):\n",
    "            if est_motif(liste_motifs,batch[0:j+5],seuil) == False and batch[0:j+5] not in non_motif_list: #On ajoute ce non-motif à la liste\n",
    "                non_motif_list.append(batch[0:j+5])\n",
    "                break\n",
    "            if len(non_motif_list) >= 2000:\n",
    "                break\n",
    "        if len(non_motif_list) >= 2000:\n",
    "                max_i = i\n",
    "                break\n",
    "    print('max i : ',max_i)      \n",
    "    return non_motif_list\n",
    "\n"
   ]
  },
  {
   "cell_type": "code",
   "execution_count": null,
   "metadata": {},
   "outputs": [],
   "source": [
    "non_motif_list = rolling_stone(motifs_df, seq_ADN, 0.3)\n",
    "len(non_motif_list)"
   ]
  },
  {
   "cell_type": "code",
   "execution_count": null,
   "metadata": {},
   "outputs": [],
   "source": [
    "# the histogram of motifs length\n",
    "x = [len(non_motif_list[i]) for i in range(0,len(non_motif_list))]\n",
    "print('Longueur minimum d\"un motif : ', min(x))\n",
    "print('Longueur maximal d\"un motif : ', max(x))\n",
    "n, bins, patches = plt.hist(x, 50, density=True, facecolor='g', alpha=0.75)\n",
    "plt.title('Histogram of non-motifs length')\n",
    "plt.grid(True)\n",
    "plt.show()"
   ]
  },
  {
   "cell_type": "code",
   "execution_count": null,
   "metadata": {},
   "outputs": [],
   "source": [
    "def word_to_numbers(list_motifs):\n",
    "    n = len(list_motifs)\n",
    "    list_motifs_nombres = []\n",
    "    for i in range(n):\n",
    "        new = ''\n",
    "        for j in list_motifs[i]:\n",
    "            if j == 'A':\n",
    "                #print('A')\n",
    "                new += '1'\n",
    "            elif j == 'C':\n",
    "                #print('C')\n",
    "                new += '2'\n",
    "            elif j == 'G':\n",
    "                #print('G')\n",
    "                new += '3'\n",
    "            elif j == 'T':\n",
    "                #print('T')\n",
    "                new += '4'\n",
    "        list_motifs_nombres.append(new)\n",
    "    return list_motifs_nombres\n",
    "\n"
   ]
  }
 ],
 "metadata": {
  "kernelspec": {
   "display_name": "Python 3",
   "language": "python",
   "name": "python3"
  },
  "language_info": {
   "codemirror_mode": {
    "name": "ipython",
    "version": 3
   },
   "file_extension": ".py",
   "mimetype": "text/x-python",
   "name": "python",
   "nbconvert_exporter": "python",
   "pygments_lexer": "ipython3",
   "version": "3.8.0"
  },
  "orig_nbformat": 4,
  "vscode": {
   "interpreter": {
    "hash": "b47314de36e88ca6710d3c1ca5db701a0ff425a3c1e7581762a3f378579b42b7"
   }
  }
 },
 "nbformat": 4,
 "nbformat_minor": 2
}
