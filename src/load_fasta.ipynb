{
 "cells": [
  {
   "cell_type": "code",
   "execution_count": null,
   "metadata": {},
   "outputs": [],
   "source": [
    "from Bio import SeqIO\n",
    "import matplotlib.pyplot as plt\n",
    "import numpy as np\n",
    "import re\n",
    "from collections import Counter"
   ]
  },
  {
   "cell_type": "code",
   "execution_count": null,
   "metadata": {},
   "outputs": [],
   "source": [
    "human_ch1 = '../data/Homo_sapiens.GRCh38.dna_sm.chromosome.Y.fa'\n",
    "motifs_input = '../data/human_motifs.fa'"
   ]
  },
  {
   "cell_type": "code",
   "execution_count": null,
   "metadata": {},
   "outputs": [],
   "source": [
    "Seq0=[]\n",
    "for seq_record in SeqIO.parse(motifs_input, \"fasta\"):\n",
    "    \n",
    "    Seq0(repr(seq_record.seq))\n",
    "    "
   ]
  },
  {
   "cell_type": "code",
   "execution_count": null,
   "metadata": {},
   "outputs": [],
   "source": [
    "with open(motifs_input) as fasta_file:  # Will close handle cleanly\n",
    "    identifiers = []\n",
    "    sequences = []\n",
    "    lengths = []\n",
    "    for seq_record in SeqIO.parse(fasta_file, 'fasta'):  # (generator)\n",
    "        identifiers.append(seq_record.id)\n",
    "        sequences.append(seq_record.seq)\n",
    "        lengths.append(len(seq_record.seq))"
   ]
  },
  {
   "cell_type": "code",
   "execution_count": null,
   "metadata": {},
   "outputs": [],
   "source": [
    "motifs = []\n",
    "for i in range(0,len(sequences)):\n",
    "    seq = re.findall('[A-Z]',str(sequences[i]))\n",
    "    motifs.append(''.join(seq))\n",
    "motifs"
   ]
  },
  {
   "cell_type": "code",
   "execution_count": null,
   "metadata": {},
   "outputs": [],
   "source": [
    "# the histogram of motifs length\n",
    "x = [len(motifs[i]) for i in range(0,len(motifs))]\n",
    "n, bins, patches = plt.hist(x, 50, density=True, facecolor='g', alpha=0.75)\n",
    "plt.title('Histogram of motifs length')\n",
    "plt.grid(True)\n",
    "plt.show()"
   ]
  },
  {
   "cell_type": "code",
   "execution_count": null,
   "metadata": {},
   "outputs": [],
   "source": [
    "nucl_counts = dict()\n",
    "for i in range(0,len(motifs)):\n",
    "  for i in motifs[i]:\n",
    "    nucl_counts[i] = nucl_counts.get(i, 0) + 1\n",
    "nucl_counts"
   ]
  },
  {
   "cell_type": "code",
   "execution_count": null,
   "metadata": {},
   "outputs": [],
   "source": [
    "nucl_counts_sorted = {k: v for k, v in sorted(nucl_counts.items(), key=lambda item: item[1])}\n",
    "\n",
    "names = list(nucl_counts_sorted.keys())\n",
    "values = list(nucl_counts_sorted.values())\n",
    "\n",
    "plt.bar(names, values)\n",
    "plt.suptitle('Categorical Plotting')\n",
    "plt.grid()\n",
    "plt.show()"
   ]
  },
  {
   "cell_type": "code",
   "execution_count": null,
   "metadata": {},
   "outputs": [],
   "source": [
    "#dire si une séquence est ou non motif\n",
    "\n",
    "def est_motif(liste_motifs,seq,seuil):\n",
    "    n,m = len(liste_motifs),len(seq)\n",
    "    for i in range(n):\n",
    "        cur_dist = 0\n",
    "        if len(liste_motifs[i]) == m:\n",
    "            for j in range(m):\n",
    "                if liste_motifs[i][j] == 'A' and seq[j] != 'A':\n",
    "                    cur_dist +=1\n",
    "                    #print(\"incrémente 1\")\n",
    "                elif liste_motifs[i][j] == 'T' and seq[j] != 'T':\n",
    "                    cur_dist +=1\n",
    "                    #print(\"incrémente 2\")\n",
    "                elif liste_motifs[i][j] == 'G' and seq[j] != 'G':\n",
    "                    cur_dist +=1\n",
    "                    #print(\"incrémente 3\")\n",
    "                elif liste_motifs[i][j] == 'C' and seq[j] != 'C':\n",
    "                    cur_dist +=1\n",
    "                    #print(\"incrémente 4\")\n",
    "                elif liste_motifs[i][j] == 'U' and seq[j] != 'U':\n",
    "                    cur_dist +=1\n",
    "                    #print(\"incrémente 5\")\n",
    "                elif liste_motifs[i][j] == 'R' and seq[j] != 'R' and seq[j] != 'A' and seq[j] != 'G':\n",
    "                    cur_dist +=1\n",
    "                    #print(\"incrémente 6\")\n",
    "                elif liste_motifs[i][j] == 'Y' and seq[j] != 'Y' and seq[j] != 'C' and seq[j] != 'T' and seq[j] != 'U':\n",
    "                    cur_dist +=1\n",
    "                    #print(\"incrémente 7\")\n",
    "                elif liste_motifs[i][j] == 'K' and seq[j] != 'K' and seq[j] != 'G' and seq[j] != 'T' and seq[j] != 'U':\n",
    "                    cur_dist +=1\n",
    "                    #print(\"incrémente 8\")\n",
    "                elif liste_motifs[i][j] == 'M' and seq[j] != 'M' and seq[j] != 'A' and seq[j] != 'C':\n",
    "                    cur_dist +=1\n",
    "                    #print(\"incrémente 9\")\n",
    "                elif liste_motifs[i][j] == 'S' and seq[j] != 'S' and seq[j] != 'C' and seq[j] != 'G':\n",
    "                    cur_dist +=1\n",
    "                    #print(\"incrémente 10\")\n",
    "                elif liste_motifs[i][j] == 'W' and seq[j] != 'W' and seq[j] != 'A' and seq[j] != 'T' and seq[j] != 'U':\n",
    "                    cur_dist +=1\n",
    "                    #print(\"incrémente 11\")\n",
    "                elif liste_motifs[i][j] == 'B' and seq[j] == 'A':\n",
    "                    cur_dist +=1\n",
    "                    #print(\"incrémente 12\")\n",
    "                elif liste_motifs[i][j] == 'D' and seq[j] == 'C':\n",
    "                    cur_dist +=1\n",
    "                    #print(\"incrémente 13\")\n",
    "                elif liste_motifs[i][j] == 'H' and seq[j] == 'G':\n",
    "                    cur_dist +=1\n",
    "                    #print(\"incrémente 14\")\n",
    "                elif liste_motifs[i][j] == 'V' and seq[j] != 'V' and seq[j] != 'A' and seq[j] != 'C' and seq[j] != 'G':\n",
    "                    cur_dist +=1\n",
    "                    #print(\"incrémente 15\")\n",
    "            #print(cur_dist)\n",
    "            if cur_dist <= seuil:\n",
    "                return True\n",
    "    return False"
   ]
  },
  {
   "cell_type": "code",
   "execution_count": null,
   "metadata": {},
   "outputs": [],
   "source": [
    "ADN = 'GARWTGTAGT'"
   ]
  },
  {
   "cell_type": "code",
   "execution_count": null,
   "metadata": {},
   "outputs": [],
   "source": [
    "est_motif(motifs, ADN, 0)"
   ]
  }
 ],
 "metadata": {
  "kernelspec": {
   "display_name": "Python 3.9.12 ('base')",
   "language": "python",
   "name": "python3"
  },
  "language_info": {
   "codemirror_mode": {
    "name": "ipython",
    "version": 3
   },
   "file_extension": ".py",
   "mimetype": "text/x-python",
   "name": "python",
   "nbconvert_exporter": "python",
   "pygments_lexer": "ipython3",
   "version": "3.9.12"
  },
  "orig_nbformat": 4,
  "vscode": {
   "interpreter": {
    "hash": "88ad17cbfc27b0695cf6bc9868144acf877a07f0318cb41ac12338475bf626d1"
   }
  }
 },
 "nbformat": 4,
 "nbformat_minor": 2
}
